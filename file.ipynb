{
 "cells": [
  {
   "cell_type": "code",
   "execution_count": 1,
   "id": "7cb8319f",
   "metadata": {},
   "outputs": [],
   "source": [
    "#Reading and Writing files\n",
    "# Opening a file in read mode\n",
    "file = open(\"jeff.txt\", \"r\") # 'r' is for read mode\n",
    "# Reading the entire content of the file"
   ]
  },
  {
   "cell_type": "code",
   "execution_count": 2,
   "id": "056919bd",
   "metadata": {},
   "outputs": [
    {
     "name": "stdout",
     "output_type": "stream",
     "text": [
      "Working with text files\n"
     ]
    }
   ],
   "source": [
    "# Reading the content of the file\n",
    "content = file.read()\n",
    "# Printing the content\n",
    "print(content)\n",
    "# Closing the file\n",
    "file.close()"
   ]
  },
  {
   "cell_type": "code",
   "execution_count": 3,
   "id": "b4f78362",
   "metadata": {},
   "outputs": [],
   "source": [
    "# Writing to a file\n",
    "with open(\"geoff.txt\", \"w\") as file: \n",
    "    # Writing a string to the file\n",
    "    file.write(\"Welcome to writing files first line.\\n\")\n",
    "    # Writing another string\n",
    "    #file.write(\"This is another line.\\n\")"
   ]
  },
  {
   "cell_type": "code",
   "execution_count": 4,
   "id": "8ec893e4",
   "metadata": {},
   "outputs": [
    {
     "name": "stdout",
     "output_type": "stream",
     "text": [
      "Welcome to writing files first line.\n",
      "This is an appended line.\n",
      "\n"
     ]
    }
   ],
   "source": [
    "# Appending to a file\n",
    "with open(\"geoff.txt\", \"a\") as file: \n",
    "    # Appending a string to the file\n",
    "    file.write(\"This is an appended line.\\n\")\n",
    "# Reading the file again to see the changes\n",
    "with open(\"geoff.txt\", \"r\") as file:\n",
    "    # Reading the content of the file\n",
    "    content = file.read()\n",
    "    # Printing the content\n",
    "    print(content)"
   ]
  }
 ],
 "metadata": {
  "kernelspec": {
   "display_name": ".venv",
   "language": "python",
   "name": "python3"
  },
  "language_info": {
   "codemirror_mode": {
    "name": "ipython",
    "version": 3
   },
   "file_extension": ".py",
   "mimetype": "text/x-python",
   "name": "python",
   "nbconvert_exporter": "python",
   "pygments_lexer": "ipython3",
   "version": "3.12.3"
  }
 },
 "nbformat": 4,
 "nbformat_minor": 5
}
